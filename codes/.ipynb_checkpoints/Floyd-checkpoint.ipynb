{
 "cells": [
  {
   "cell_type": "code",
   "execution_count": 1,
   "id": "eb07985c",
   "metadata": {},
   "outputs": [],
   "source": [
    "import numpy as np"
   ]
  },
  {
   "cell_type": "code",
   "execution_count": 2,
   "id": "a50db754",
   "metadata": {},
   "outputs": [],
   "source": [
    "MAX_VALUE = 99999"
   ]
  },
  {
   "cell_type": "code",
   "execution_count": 3,
   "id": "96f57a24",
   "metadata": {},
   "outputs": [],
   "source": [
    "W = np.array([ [ 0, MAX_VALUE, 3, MAX_VALUE, MAX_VALUE, MAX_VALUE, MAX_VALUE, MAX_VALUE, MAX_VALUE, MAX_VALUE, MAX_VALUE, MAX_VALUE, MAX_VALUE, MAX_VALUE ], \n",
    "               [ MAX_VALUE, 0, 7, MAX_VALUE, MAX_VALUE, MAX_VALUE, MAX_VALUE, MAX_VALUE, MAX_VALUE, MAX_VALUE, MAX_VALUE, MAX_VALUE, MAX_VALUE, MAX_VALUE ],\n",
    "               [ 3, 7, 0, MAX_VALUE, MAX_VALUE, MAX_VALUE, 4, MAX_VALUE, MAX_VALUE, MAX_VALUE, MAX_VALUE, MAX_VALUE, MAX_VALUE, MAX_VALUE ],\n",
    "               [ MAX_VALUE, MAX_VALUE, MAX_VALUE, 0, 6, MAX_VALUE, MAX_VALUE, MAX_VALUE, MAX_VALUE, MAX_VALUE, 2, 1, MAX_VALUE, MAX_VALUE ],\n",
    "               [ MAX_VALUE, MAX_VALUE, MAX_VALUE, 6, 0, 5, 2, MAX_VALUE, MAX_VALUE, 4, MAX_VALUE, MAX_VALUE, MAX_VALUE, MAX_VALUE ],\n",
    "               [ MAX_VALUE, MAX_VALUE, MAX_VALUE, MAX_VALUE, 5, 0, MAX_VALUE, MAX_VALUE, MAX_VALUE, MAX_VALUE, MAX_VALUE, MAX_VALUE, MAX_VALUE, MAX_VALUE ],\n",
    "               [ MAX_VALUE, MAX_VALUE, 4, MAX_VALUE, 2, MAX_VALUE, 0, MAX_VALUE, MAX_VALUE, MAX_VALUE, MAX_VALUE, MAX_VALUE, 5, MAX_VALUE ],\n",
    "               [ MAX_VALUE, MAX_VALUE, MAX_VALUE, MAX_VALUE, MAX_VALUE, MAX_VALUE, MAX_VALUE, 0, 2, MAX_VALUE, MAX_VALUE, MAX_VALUE, MAX_VALUE, MAX_VALUE ],\n",
    "               [ MAX_VALUE, MAX_VALUE, MAX_VALUE, MAX_VALUE, MAX_VALUE, MAX_VALUE, MAX_VALUE, 2, 0, 5, MAX_VALUE, MAX_VALUE, MAX_VALUE, MAX_VALUE ],\n",
    "               [ MAX_VALUE, MAX_VALUE, MAX_VALUE, MAX_VALUE, 4,         MAX_VALUE, MAX_VALUE, MAX_VALUE, 5,         0,         MAX_VALUE, MAX_VALUE, MAX_VALUE, MAX_VALUE ],\n",
    "               [ MAX_VALUE, MAX_VALUE, MAX_VALUE, 2,         MAX_VALUE, MAX_VALUE, MAX_VALUE, MAX_VALUE, MAX_VALUE, MAX_VALUE, 0        , MAX_VALUE, MAX_VALUE, MAX_VALUE ],\n",
    "               [ MAX_VALUE, MAX_VALUE, MAX_VALUE, 1,         MAX_VALUE, MAX_VALUE, MAX_VALUE, MAX_VALUE, MAX_VALUE, MAX_VALUE, MAX_VALUE, 0,         MAX_VALUE, MAX_VALUE ] ])"
   ]
  },
  {
   "cell_type": "code",
   "execution_count": 4,
   "id": "1a2b3b56",
   "metadata": {},
   "outputs": [
    {
     "data": {
      "text/plain": [
       "(1, 14)"
      ]
     },
     "execution_count": 4,
     "metadata": {},
     "output_type": "execute_result"
    }
   ],
   "source": [
    "W.shape"
   ]
  },
  {
   "cell_type": "code",
   "execution_count": null,
   "id": "ac4bc89b",
   "metadata": {},
   "outputs": [],
   "source": []
  }
 ],
 "metadata": {
  "kernelspec": {
   "display_name": "Python 3 (ipykernel)",
   "language": "python",
   "name": "python3"
  },
  "language_info": {
   "codemirror_mode": {
    "name": "ipython",
    "version": 3
   },
   "file_extension": ".py",
   "mimetype": "text/x-python",
   "name": "python",
   "nbconvert_exporter": "python",
   "pygments_lexer": "ipython3",
   "version": "3.9.12"
  }
 },
 "nbformat": 4,
 "nbformat_minor": 5
}
