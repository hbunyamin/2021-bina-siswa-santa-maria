{
 "cells": [
  {
   "cell_type": "markdown",
   "id": "8bbd408d",
   "metadata": {},
   "source": [
    "# Floyd Algorithm"
   ]
  },
  {
   "cell_type": "code",
   "execution_count": 1,
   "id": "2ed6ef6f",
   "metadata": {},
   "outputs": [],
   "source": [
    "import numpy as np"
   ]
  },
  {
   "cell_type": "code",
   "execution_count": 2,
   "id": "13b1be6a",
   "metadata": {},
   "outputs": [],
   "source": [
    "MAX_VALUE = 99999"
   ]
  },
  {
   "cell_type": "code",
   "execution_count": 5,
   "id": "ad7fe526",
   "metadata": {},
   "outputs": [],
   "source": [
    "W = np.array([ [ 0, MAX_VALUE, 3, MAX_VALUE, MAX_VALUE, MAX_VALUE, MAX_VALUE, MAX_VALUE, MAX_VALUE, MAX_VALUE, MAX_VALUE, MAX_VALUE, MAX_VALUE, MAX_VALUE ], \n",
    "               [ MAX_VALUE, 0, 7, MAX_VALUE, MAX_VALUE, MAX_VALUE, MAX_VALUE, MAX_VALUE, MAX_VALUE, MAX_VALUE, MAX_VALUE, MAX_VALUE, MAX_VALUE, MAX_VALUE ],\n",
    "               [ 3, 7, 0, MAX_VALUE, MAX_VALUE, MAX_VALUE, 4, MAX_VALUE, MAX_VALUE, MAX_VALUE, MAX_VALUE, MAX_VALUE, MAX_VALUE, MAX_VALUE ],\n",
    "               [ MAX_VALUE, MAX_VALUE, MAX_VALUE, 0, 6, MAX_VALUE, MAX_VALUE, MAX_VALUE, MAX_VALUE, MAX_VALUE, 2, 1, MAX_VALUE, MAX_VALUE ],\n",
    "               [ MAX_VALUE, MAX_VALUE, MAX_VALUE, 6, 0, 5, 2, MAX_VALUE, MAX_VALUE, 4, MAX_VALUE, MAX_VALUE, MAX_VALUE, MAX_VALUE ],\n",
    "               [ MAX_VALUE, MAX_VALUE, MAX_VALUE, MAX_VALUE, 5, 0, MAX_VALUE, MAX_VALUE, MAX_VALUE, MAX_VALUE, MAX_VALUE, MAX_VALUE, MAX_VALUE, MAX_VALUE ],\n",
    "               [ MAX_VALUE, MAX_VALUE, 4, MAX_VALUE, 2, MAX_VALUE, 0, MAX_VALUE, MAX_VALUE, MAX_VALUE, MAX_VALUE, MAX_VALUE, 5, MAX_VALUE ],\n",
    "               [ MAX_VALUE, MAX_VALUE, MAX_VALUE, MAX_VALUE, MAX_VALUE, MAX_VALUE, MAX_VALUE, 0, 2, MAX_VALUE, MAX_VALUE, MAX_VALUE, MAX_VALUE, MAX_VALUE ],\n",
    "               [ MAX_VALUE, MAX_VALUE, MAX_VALUE, MAX_VALUE, MAX_VALUE, MAX_VALUE, MAX_VALUE, 2, 0, 5, MAX_VALUE, MAX_VALUE, MAX_VALUE, MAX_VALUE ],\n",
    "               [ MAX_VALUE, MAX_VALUE, MAX_VALUE, MAX_VALUE, 4,         MAX_VALUE, MAX_VALUE, MAX_VALUE, 5,         0,         MAX_VALUE, MAX_VALUE, MAX_VALUE, MAX_VALUE ],\n",
    "               [ MAX_VALUE, MAX_VALUE, MAX_VALUE, 2,         MAX_VALUE, MAX_VALUE, MAX_VALUE, MAX_VALUE, MAX_VALUE, MAX_VALUE, 0        , MAX_VALUE, MAX_VALUE, MAX_VALUE ],\n",
    "               [ MAX_VALUE, MAX_VALUE, MAX_VALUE, 1,         MAX_VALUE, MAX_VALUE, MAX_VALUE, MAX_VALUE, MAX_VALUE, MAX_VALUE, MAX_VALUE, 0,         MAX_VALUE, MAX_VALUE ],\n",
    "               [ MAX_VALUE, MAX_VALUE, MAX_VALUE, MAX_VALUE, MAX_VALUE, MAX_VALUE, 5,         MAX_VALUE, MAX_VALUE, MAX_VALUE, MAX_VALUE, MAX_VALUE, 0,         2 ],\n",
    "               [ MAX_VALUE, MAX_VALUE, MAX_VALUE, MAX_VALUE, MAX_VALUE, MAX_VALUE, MAX_VALUE, MAX_VALUE, MAX_VALUE, MAX_VALUE, MAX_VALUE, MAX_VALUE, 2,         0 ] ])"
   ]
  },
  {
   "cell_type": "code",
   "execution_count": 6,
   "id": "2d944eb7",
   "metadata": {},
   "outputs": [
    {
     "data": {
      "text/plain": [
       "(14, 14)"
      ]
     },
     "execution_count": 6,
     "metadata": {},
     "output_type": "execute_result"
    }
   ],
   "source": [
    "W.shape"
   ]
  },
  {
   "cell_type": "code",
   "execution_count": 8,
   "id": "0e4f3f19",
   "metadata": {},
   "outputs": [],
   "source": [
    "D = W.copy()"
   ]
  },
  {
   "cell_type": "code",
   "execution_count": 17,
   "id": "07d36fba",
   "metadata": {},
   "outputs": [
    {
     "data": {
      "text/plain": [
       "9999"
      ]
     },
     "execution_count": 17,
     "metadata": {},
     "output_type": "execute_result"
    }
   ],
   "source": [
    "np.min(9999,D[0,0] + D[1,1])"
   ]
  },
  {
   "cell_type": "code",
   "execution_count": 23,
   "id": "dd09edd1",
   "metadata": {},
   "outputs": [],
   "source": [
    "def Floyd(W):\n",
    "    D = W.copy()\n",
    "    \n",
    "    for k in range(W.shape[0]):\n",
    "        for i in range(W.shape[0]):\n",
    "            for j in range(W.shape[0]):\n",
    "                D[i,j] = min( D[i,j], D[i,k] + D[k,j])\n",
    "    return D"
   ]
  },
  {
   "cell_type": "code",
   "execution_count": 24,
   "id": "f93697a5",
   "metadata": {},
   "outputs": [],
   "source": [
    "result = Floyd(W)"
   ]
  },
  {
   "cell_type": "code",
   "execution_count": 30,
   "id": "24a019d2",
   "metadata": {},
   "outputs": [
    {
     "data": {
      "text/plain": [
       "24"
      ]
     },
     "execution_count": 30,
     "metadata": {},
     "output_type": "execute_result"
    }
   ],
   "source": [
    "np.max(result)"
   ]
  },
  {
   "cell_type": "code",
   "execution_count": 27,
   "id": "233f009d",
   "metadata": {},
   "outputs": [
    {
     "data": {
      "text/plain": [
       "array([[ 0, 10,  3, 15,  9, 14,  7, 20, 18, 13, 17, 16, 12, 14],\n",
       "       [10,  0,  7, 19, 13, 18, 11, 24, 22, 17, 21, 20, 16, 18],\n",
       "       [ 3,  7,  0, 12,  6, 11,  4, 17, 15, 10, 14, 13,  9, 11],\n",
       "       [15, 19, 12,  0,  6, 11,  8, 17, 15, 10,  2,  1, 13, 15],\n",
       "       [ 9, 13,  6,  6,  0,  5,  2, 11,  9,  4,  8,  7,  7,  9],\n",
       "       [14, 18, 11, 11,  5,  0,  7, 16, 14,  9, 13, 12, 12, 14],\n",
       "       [ 7, 11,  4,  8,  2,  7,  0, 13, 11,  6, 10,  9,  5,  7],\n",
       "       [20, 24, 17, 17, 11, 16, 13,  0,  2,  7, 19, 18, 18, 20],\n",
       "       [18, 22, 15, 15,  9, 14, 11,  2,  0,  5, 17, 16, 16, 18],\n",
       "       [13, 17, 10, 10,  4,  9,  6,  7,  5,  0, 12, 11, 11, 13],\n",
       "       [17, 21, 14,  2,  8, 13, 10, 19, 17, 12,  0,  3, 15, 17],\n",
       "       [16, 20, 13,  1,  7, 12,  9, 18, 16, 11,  3,  0, 14, 16],\n",
       "       [12, 16,  9, 13,  7, 12,  5, 18, 16, 11, 15, 14,  0,  2],\n",
       "       [14, 18, 11, 15,  9, 14,  7, 20, 18, 13, 17, 16,  2,  0]])"
      ]
     },
     "execution_count": 27,
     "metadata": {},
     "output_type": "execute_result"
    }
   ],
   "source": [
    "result"
   ]
  },
  {
   "cell_type": "code",
   "execution_count": 29,
   "id": "5d47429f",
   "metadata": {},
   "outputs": [
    {
     "data": {
      "text/plain": [
       "(1, 7)"
      ]
     },
     "execution_count": 29,
     "metadata": {},
     "output_type": "execute_result"
    }
   ],
   "source": [
    "np.unravel_index(np.argmax(result, axis=None), result.shape)  "
   ]
  },
  {
   "cell_type": "code",
   "execution_count": null,
   "id": "41f8b033",
   "metadata": {},
   "outputs": [],
   "source": []
  }
 ],
 "metadata": {
  "kernelspec": {
   "display_name": "Python 3 (ipykernel)",
   "language": "python",
   "name": "python3"
  },
  "language_info": {
   "codemirror_mode": {
    "name": "ipython",
    "version": 3
   },
   "file_extension": ".py",
   "mimetype": "text/x-python",
   "name": "python",
   "nbconvert_exporter": "python",
   "pygments_lexer": "ipython3",
   "version": "3.9.12"
  }
 },
 "nbformat": 4,
 "nbformat_minor": 5
}
